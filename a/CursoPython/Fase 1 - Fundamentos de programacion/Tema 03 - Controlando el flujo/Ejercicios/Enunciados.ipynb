{
 "cells": [
  {
   "cell_type": "markdown",
   "metadata": {},
   "source": [
    "# Tema 03: Control de flujo (Enunciados)\n",
    "*Nota: Estos ejercicios son optativos para hacer al final de la unidad y están pensados para apoyar tu aprendizaje*."
   ]
  },
  {
   "cell_type": "markdown",
   "metadata": {},
   "source": [
    "**1) Realiza un programa que lea dos números por teclado y permita elegir entre 3 opciones en un menú:** \n",
    "* Mostrar una suma de los dos números\n",
    "* Mostrar una resta de los dos números (el primero menos el segundo)\n",
    "* Mostrar una multiplicación de los dos números\n",
    "* En caso de no introducir una opción válida, el programa informará de que no es correcta."
   ]
  },
  {
   "cell_type": "code",
   "execution_count": null,
   "metadata": {
    "collapsed": false,
    "jupyter": {
     "outputs_hidden": false
    }
   },
   "outputs": [],
   "source": [
    "# Completa el ejercicio aquí\n",
    "num_1 = int(input(\"Introduzca un numero:\"))\n",
    "num_2 = int(input(\"Introduzca un numero:\"))\n",
    "print(\"1. Mostrar la suma de dos numeros\")\n",
    "print(\"2. Mostrar la resta entre dos numeros\")\n",
    "print(\"3. Mostrar una multiplicacion de dos numeros\")\n",
    "eleccion = int(input(\"Coloque la opcion que desea elegir\"))\n",
    "while True:\n",
    "    if eleccion == 1:\n",
    "        print(num_1 + num_2)\n",
    "        break\n",
    "    if eleccion == 2:\n",
    "        print(num_1 - num_2)\n",
    "        break\n",
    "    if eleccion ==3:\n",
    "        print(num_1 * num_2)\n",
    "        break\n",
    "    else:\n",
    "        eleccion = int(input(\"Coloque la opcion que desea elegir\"))\n",
    "    "
   ]
  },
  {
   "cell_type": "markdown",
   "metadata": {},
   "source": [
    "**2) Realiza un programa que lea un número impar por teclado. Si el usuario no introduce un número impar, debe repetise el proceso hasta que lo introduzca correctamente.**"
   ]
  },
  {
   "cell_type": "code",
   "execution_count": null,
   "metadata": {
    "collapsed": false,
    "jupyter": {
     "outputs_hidden": false
    }
   },
   "outputs": [],
   "source": [
    "# Completa el ejercicio aquí\n",
    "numero = int(input(\"Coloque un numero impar\"))\n",
    "while True:\n",
    "    if numero % 2 !=0:\n",
    "        print(\"impar\")\n",
    "        break\n",
    "    else:\n",
    "        \n",
    "        print(\"el numero no es impar\")\n",
    "        numero = int(input(\"Coloque un numero impar\"))"
   ]
  },
  {
   "cell_type": "markdown",
   "metadata": {},
   "source": [
    "**3) Realiza un programa que sume todos los números enteros pares desde el 0 hasta el 100:**\n",
    "\n",
    "*Sugerencia: Puedes utilizar la funciones sum() y range() para hacerlo más fácil. El tercer parámetro en la función range(inicio, fin, salto) indica un salto de números, pruébalo.*"
   ]
  },
  {
   "cell_type": "code",
   "execution_count": null,
   "metadata": {
    "collapsed": false,
    "jupyter": {
     "outputs_hidden": false
    }
   },
   "outputs": [],
   "source": [
    "# Completa el ejercicio aquí\n",
    "a = 0\n",
    "for i in range(0,101,2):\n",
    "    a += i\n",
    "print(a)\n",
    "    "
   ]
  },
  {
   "cell_type": "code",
   "execution_count": null,
   "metadata": {},
   "outputs": [],
   "source": [
    "**4) Realiza un programa que pida al usuario cuantos números quiere introducir. Luego lee todos los números y realiza una media aritmética:**\n"
   ]
  },
  {
   "cell_type": "code",
   "execution_count": 7,
   "metadata": {
    "collapsed": false,
    "jupyter": {
     "outputs_hidden": false
    }
   },
   "outputs": [
    {
     "name": "stdin",
     "output_type": "stream",
     "text": [
      "Numero de veces a repetir 5\n",
      "introduce un numero 45\n",
      "introduce un numero 15\n",
      "introduce un numero 24\n",
      "introduce un numero 51\n",
      "introduce un numero 64\n"
     ]
    },
    {
     "name": "stdout",
     "output_type": "stream",
     "text": [
      "39.8\n"
     ]
    }
   ],
   "source": [
    "# Completa el ejercicio aquí\n",
    "veces = int(input(\"Numero de veces a repetir\"))\n",
    "sum = 0\n",
    "for i in range(veces):\n",
    "    \n",
    "    num = int(input(\"introduce un numero\"))\n",
    "    sum += num\n",
    "    media = sum / veces\n",
    "print(media)"
   ]
  },
  {
   "cell_type": "markdown",
   "metadata": {},
   "source": [
    "**5) Realiza un programa que pida al usuario un número entero del 0 al 9, y que mientras el número no sea correcto se repita el proceso. Luego debe comprobar si el número se encuentra en la lista de números y notificarlo:**\n",
    "\n",
    "*Consejo: La sintaxis \"valor in lista\" permite comprobar fácilmente si un valor se encuentra en una lista (devuelve True o False)*"
   ]
  },
  {
   "cell_type": "code",
   "execution_count": null,
   "metadata": {
    "collapsed": false,
    "jupyter": {
     "outputs_hidden": false
    }
   },
   "outputs": [],
   "source": [
    "# Completa el ejercicio aquí\n",
    "numeros = [1, 3, 6, 9]\n"
   ]
  },
  {
   "cell_type": "markdown",
   "metadata": {},
   "source": [
    "**6) Utilizando la función range() y la conversión a listas genera las siguientes listas dinámicamente:**\n",
    "* Todos los números del 0 al 10 [0, 1, 2, ..., 10]\n",
    "* Todos los números del -10 al 0 [-10, -9, -8, ..., 0]\n",
    "* Todos los números pares del 0 al 20 [0, 2, 4, ..., 20]\n",
    "* Todos los números impares entre -20 y 0 [-19, -17, -15, ..., -1]\n",
    "* Todos los números múltiples de 5 del 0 al 50 [0, 5, 10, ..., 50]\n",
    "\n",
    "*Pista: Utiliza el tercer parámetro de la función range(inicio, fin, salto).*"
   ]
  },
  {
   "cell_type": "code",
   "execution_count": 4,
   "metadata": {
    "collapsed": false,
    "jupyter": {
     "outputs_hidden": false
    }
   },
   "outputs": [
    {
     "name": "stdout",
     "output_type": "stream",
     "text": [
      "[0, 1, 2, 3, 4, 5, 6, 7, 8, 9, 10]\n",
      "[-10, -9, -8, -7, -6, -5, -4, -3, -2, -1, 0]\n",
      "[0, 2, 4, 6, 8, 10, 12, 14, 16, 18, 20]\n",
      "[-19, -17, -15, -13, -11, -9, -7, -5, -3, -1]\n",
      "[0, 5, 10, 15, 20, 25, 30, 35, 40, 45, 50]\n"
     ]
    }
   ],
   "source": [
    "# Completa el ejercicio\n",
    "print( list( range( 0, 11 ) ) )\n",
    "print( list( range( -10, 1 ) ) )\n",
    "print( list( range( 0, 21, 2 ) ) )\n",
    "print( list( range( -19, 0, 2 ) ) )\n",
    "print( list( range( 0, 51, 5 ) ) )\n",
    "\n"
   ]
  },
  {
   "cell_type": "markdown",
   "metadata": {},
   "source": [
    "**7) Dadas dos listas, debes generar una tercera con todos los elementos que se repitan en ellas, pero no debe repetise ningún elemento en la nueva lista:**"
   ]
  },
  {
   "cell_type": "code",
   "execution_count": 3,
   "metadata": {
    "collapsed": false,
    "jupyter": {
     "outputs_hidden": false
    }
   },
   "outputs": [
    {
     "name": "stdout",
     "output_type": "stream",
     "text": [
      "[['h', 'o', 'l', 'a', ' ', 'm', 'u', 'n', 'd', 'o'], ['h', 'o', 'l', 'a', ' ', 'm', 'u', 'n', 'd', 'o'], ['h', 'o', 'l', 'a', ' ', 'm', 'u', 'n', 'd', 'o'], ['h', 'o', 'l', 'a', ' ', 'm', 'u', 'n', 'd', 'o'], ['h', 'o', 'l', 'a', ' ', 'm', 'u', 'n', 'd', 'o'], ['h', 'o', 'l', 'a', ' ', 'm', 'u', 'n', 'd', 'o'], ['h', 'o', 'l', 'a', ' ', 'm', 'u', 'n', 'd', 'o'], ['h', 'o', 'l', 'a', ' ', 'm', 'u', 'n', 'd', 'o'], ['h', 'o', 'l', 'a', ' ', 'm', 'u', 'n', 'd', 'o'], ['h', 'o', 'l', 'a', ' ', 'm', 'u', 'n', 'd', 'o']]\n"
     ]
    }
   ],
   "source": [
    "# Completa el ejercicio aquí\n",
    "lista_1 = [\"h\",'o','l','a',' ', 'm','u','n','d','o']\n",
    "lista_2 = [\"h\",'o','l','a',' ', 'l','u','n','a']\n",
    "\n",
    "lista_3 = []\n",
    "for letra in lista_1:\n",
    "    for letra in lista_2 and \n",
    "print(lista_3)"
   ]
  },
  {
   "cell_type": "code",
   "execution_count": null,
   "metadata": {},
   "outputs": [],
   "source": []
  }
 ],
 "metadata": {
  "anaconda-cloud": {},
  "kernelspec": {
   "display_name": "Python 3 (ipykernel)",
   "language": "python",
   "name": "python3"
  },
  "language_info": {
   "codemirror_mode": {
    "name": "ipython",
    "version": 3
   },
   "file_extension": ".py",
   "mimetype": "text/x-python",
   "name": "python",
   "nbconvert_exporter": "python",
   "pygments_lexer": "ipython3",
   "version": "3.12.1"
  }
 },
 "nbformat": 4,
 "nbformat_minor": 4
}
