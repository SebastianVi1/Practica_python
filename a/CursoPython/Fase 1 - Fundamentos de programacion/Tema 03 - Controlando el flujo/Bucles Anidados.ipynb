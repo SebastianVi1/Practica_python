{
 "cells": [
  {
   "cell_type": "code",
   "execution_count": 1,
   "id": "24028705-0cd0-4873-8c04-6904387640b1",
   "metadata": {},
   "outputs": [],
   "source": [
    "lista = [\"Hola\", 10 , \"Adios\", [50, 100, 150]]"
   ]
  },
  {
   "cell_type": "code",
   "execution_count": 2,
   "id": "e7dd8815-57fe-4499-a989-ddf5a0459fb6",
   "metadata": {},
   "outputs": [
    {
     "data": {
      "text/plain": [
       "[50, 100, 150]"
      ]
     },
     "execution_count": 2,
     "metadata": {},
     "output_type": "execute_result"
    }
   ],
   "source": [
    "lista[-1]"
   ]
  },
  {
   "cell_type": "code",
   "execution_count": 3,
   "id": "083f0a66-0e6e-4b9b-a18a-a67ad4c83ac7",
   "metadata": {},
   "outputs": [
    {
     "data": {
      "text/plain": [
       "50"
      ]
     },
     "execution_count": 3,
     "metadata": {},
     "output_type": "execute_result"
    }
   ],
   "source": [
    "lista[-1][0]"
   ]
  },
  {
   "cell_type": "code",
   "execution_count": 4,
   "id": "f838836f-8e98-4e7b-8a3f-ab781128a206",
   "metadata": {},
   "outputs": [
    {
     "data": {
      "text/plain": [
       "150"
      ]
     },
     "execution_count": 4,
     "metadata": {},
     "output_type": "execute_result"
    }
   ],
   "source": [
    "lista[-1][-1]"
   ]
  },
  {
   "cell_type": "code",
   "execution_count": 5,
   "id": "1c960ace-6593-4e3e-ae0c-75a5a6e512b2",
   "metadata": {},
   "outputs": [],
   "source": [
    "lista = [\n",
    "    \"Esto es un texto\", #Cadena\n",
    "    (1, 5, 10, 15, 20, 25), #tupla\n",
    "    [\"Azul\", \"Verde\", \"Amarillo\"] #lista\n",
    "]"
   ]
  },
  {
   "cell_type": "code",
   "execution_count": 6,
   "id": "d492f3a4-fb37-4a5f-a4fe-59275a62f571",
   "metadata": {},
   "outputs": [
    {
     "name": "stdout",
     "output_type": "stream",
     "text": [
      "Esto es un texto\n",
      "(1, 5, 10, 15, 20, 25)\n",
      "['Azul', 'Verde', 'Amarillo']\n"
     ]
    }
   ],
   "source": [
    "for coleccion in lista:\n",
    "    print(coleccion)"
   ]
  },
  {
   "cell_type": "code",
   "execution_count": 8,
   "id": "ba5620b1-f93e-4f42-b58f-8a12e264928c",
   "metadata": {},
   "outputs": [
    {
     "name": "stdout",
     "output_type": "stream",
     "text": [
      "Esto es un texto --> E\n",
      "Esto es un texto --> s\n",
      "Esto es un texto --> t\n",
      "Esto es un texto --> o\n",
      "Esto es un texto -->  \n",
      "Esto es un texto --> e\n",
      "Esto es un texto --> s\n",
      "Esto es un texto -->  \n",
      "Esto es un texto --> u\n",
      "Esto es un texto --> n\n",
      "Esto es un texto -->  \n",
      "Esto es un texto --> t\n",
      "Esto es un texto --> e\n",
      "Esto es un texto --> x\n",
      "Esto es un texto --> t\n",
      "Esto es un texto --> o\n",
      "(1, 5, 10, 15, 20, 25) --> 1\n",
      "(1, 5, 10, 15, 20, 25) --> 5\n",
      "(1, 5, 10, 15, 20, 25) --> 10\n",
      "(1, 5, 10, 15, 20, 25) --> 15\n",
      "(1, 5, 10, 15, 20, 25) --> 20\n",
      "(1, 5, 10, 15, 20, 25) --> 25\n",
      "['Azul', 'Verde', 'Amarillo'] --> Azul\n",
      "['Azul', 'Verde', 'Amarillo'] --> Verde\n",
      "['Azul', 'Verde', 'Amarillo'] --> Amarillo\n"
     ]
    }
   ],
   "source": [
    "for coleccion in lista:\n",
    "    for elemento in coleccion:\n",
    "        print(coleccion, \"-->\", elemento)"
   ]
  },
  {
   "cell_type": "code",
   "execution_count": 12,
   "id": "975849f1-9b5b-4abe-aff1-9a5b7a403d0c",
   "metadata": {},
   "outputs": [
    {
     "name": "stdout",
     "output_type": "stream",
     "text": [
      "E\n",
      "s\n",
      "t\n",
      "o\n",
      " \n",
      "e\n",
      "s\n",
      " \n",
      "u\n",
      "n\n",
      " \n",
      "t\n",
      "e\n",
      "x\n",
      "t\n",
      "o\n",
      "1\n",
      "5\n",
      "10\n",
      "15\n",
      "20\n",
      "25\n",
      "Azul\n",
      "Verde\n",
      "Amarillo\n"
     ]
    }
   ],
   "source": [
    "for indice_coleccion, coleccion in enumerate(lista):\n",
    "    for indice_elemento, elemento in enumerate(coleccion):\n",
    "        print(lista[indice_coleccion][indice_elemento])\n",
    "        "
   ]
  },
  {
   "cell_type": "code",
   "execution_count": null,
   "id": "150251b3-767b-437c-9202-9cf9332769fd",
   "metadata": {},
   "outputs": [],
   "source": []
  }
 ],
 "metadata": {
  "kernelspec": {
   "display_name": "Python 3 (ipykernel)",
   "language": "python",
   "name": "python3"
  },
  "language_info": {
   "codemirror_mode": {
    "name": "ipython",
    "version": 3
   },
   "file_extension": ".py",
   "mimetype": "text/x-python",
   "name": "python",
   "nbconvert_exporter": "python",
   "pygments_lexer": "ipython3",
   "version": "3.12.1"
  }
 },
 "nbformat": 4,
 "nbformat_minor": 5
}
